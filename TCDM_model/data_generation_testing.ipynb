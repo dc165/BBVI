{
 "cells": [
  {
   "cell_type": "code",
   "execution_count": 1,
   "id": "1c76ea0b",
   "metadata": {},
   "outputs": [],
   "source": [
    "include(\"TDCM_full_transition.jl\")\n",
    "include(\"data_generation.jl\")\n",
    "using Distributions"
   ]
  },
  {
   "cell_type": "code",
   "execution_count": 2,
   "id": "d04e352b",
   "metadata": {},
   "outputs": [],
   "source": [
    "N, J, K, O, L, S = 5000, 24, 3, 3, 8, 50\n",
    "num_features_gamma = 3\n",
    "Q = [0 0 0; 0 0 1; 0 1 0; 1 0 0; 0 1 1; 1 0 1; 1 1 0; 1 1 1;\n",
    "     0 0 0; 0 0 1; 0 1 0; 1 0 0; 0 1 1; 1 0 1; 1 1 0; 1 1 1;\n",
    "     0 0 0; 0 0 1; 0 1 0; 1 0 0; 0 1 1; 1 0 1; 1 1 0; 1 1 1]\n",
    "\n",
    "X = Vector{Vector{Matrix{Float64}}}(undef, K)\n",
    "for k in 1:K\n",
    "     X[k] = Vector{Matrix{Float64}}(undef, O)\n",
    "     X[k][1] = ones(N, 1)\n",
    "     for t in 2:O\n",
    "          X[k][t] = Matrix{Float64}(undef, N, 3)\n",
    "          X[k][t][:,1] = ones(N)\n",
    "          X[k][t][:,2] = rand(Normal(0, 1), N)\n",
    "          X[k][t][:,3] = rand(Bernoulli(0.5), N)\n",
    "     end\n",
    "end\n",
    "U = Vector{Vector{Matrix{Float64}}}(undef, K)\n",
    "for k in 1:K\n",
    "     U[k] = Vector{Matrix{Float64}}(undef, O)\n",
    "     for t in 1:O\n",
    "          U[k][t] = Matrix{Float64}(undef, S, 3)\n",
    "          U[k][t][:,1] = ones(S)\n",
    "          U[k][t][:,2] = rand(Bernoulli(0.5), S)\n",
    "          U[k][t][:,3] = rand(Bernoulli(0.5), S)\n",
    "     end\n",
    "end"
   ]
  },
  {
   "cell_type": "code",
   "execution_count": 3,
   "id": "ae1702b1",
   "metadata": {},
   "outputs": [],
   "source": [
    "data = data_generation(Q, X, U, Int(O), Int(K), Int(S), Int(N/S), beta_interact=true);"
   ]
  },
  {
   "cell_type": "code",
   "execution_count": 4,
   "id": "9442c7b0",
   "metadata": {},
   "outputs": [],
   "source": [
    "obs = TDCMObs(data.Y, data.Q, data.U, data.X, data.group);"
   ]
  },
  {
   "cell_type": "code",
   "execution_count": 5,
   "id": "ef8bd068",
   "metadata": {},
   "outputs": [],
   "source": [
    "N, O, J, K, L, S = size(obs.Y, 1), size(obs.Y, 2), size(obs.Y, 3),  size(obs.Q, 2), size(obs.D[1], 1), size(obs.U[1][1], 1)\n",
    "\n",
    "mu_beta_prior = Vector{Vector{Float64}}(undef, J)\n",
    "L_beta_prior = Vector{Matrix{Float64}}(undef, J)\n",
    "for j in 1:J\n",
    "    num_features = size(obs.D[j], 2)\n",
    "    mu_beta_prior[j] = zeros(num_features)\n",
    "    L_beta_prior[j] = Matrix(1.0I, num_features, num_features)\n",
    "end\n",
    "\n",
    "mu_omega_prior = Vector{Vector{Vector{Vector{Vector{Float64}}}}}(undef, K)\n",
    "L_omega_prior = Vector{Vector{Vector{Vector{Matrix{Float64}}}}}(undef, K)\n",
    "a_tau_prior = Vector{Vector{Vector{Vector{Float64}}}}(undef, K)\n",
    "b_tau_prior = Vector{Vector{Vector{Vector{Float64}}}}(undef, K)\n",
    "\n",
    "for k in 1:K\n",
    "    mu_omega_prior[k] = Vector{Vector{Vector{Vector{Float64}}}}(undef, O)\n",
    "    L_omega_prior[k] = Vector{Vector{Vector{Matrix{Float64}}}}(undef, O)\n",
    "    a_tau_prior[k] = Vector{Vector{Vector{Float64}}}(undef, O)\n",
    "    b_tau_prior[k] = Vector{Vector{Vector{Float64}}}(undef, O)\n",
    "    for t in 1:O\n",
    "        num_features_gamma = size(obs.X[k][t], 2)\n",
    "        num_features_omega = size(obs.U[k][t], 2)\n",
    "        if t == 1\n",
    "            mu_omega_prior[k][t] = Vector{Vector{Vector{Float64}}}(undef, 1)\n",
    "            mu_omega_prior[k][t][1] = Vector{Vector{Float64}}(undef, 1)\n",
    "            mu_omega_prior[k][t][1][1] = zeros(num_features_omega)\n",
    "\n",
    "            L_omega_prior[k][t] = Vector{Vector{Matrix{Float64}}}(undef, 1)\n",
    "            L_omega_prior[k][t][1] = Vector{Matrix{Float64}}(undef, 1)\n",
    "            L_omega_prior[k][t][1][1] = Matrix{Float64}(1.0I, num_features_omega, num_features_omega)\n",
    "\n",
    "            a_tau_prior[k][t] = Vector{Vector{Float64}}(undef, 1)\n",
    "            a_tau_prior[k][t][1] = [.01]\n",
    "\n",
    "            b_tau_prior[k][t] = Vector{Vector{Float64}}(undef, 1)\n",
    "            b_tau_prior[k][t][1] = [.01]\n",
    "        else\n",
    "            mu_omega_prior[k][t] = Vector{Vector{Vector{Float64}}}(undef, 2)\n",
    "            L_omega_prior[k][t] = Vector{Vector{Matrix{Float64}}}(undef, 2)\n",
    "            a_tau_prior[k][t] = Vector{Vector{Float64}}(undef, 2)\n",
    "            b_tau_prior[k][t] = Vector{Vector{Float64}}(undef, 2)\n",
    "            for z in 1:2\n",
    "                mu_omega_prior[k][t][z] = Vector{Vector{Float64}}(undef, num_features_gamma)\n",
    "                L_omega_prior[k][t][z] = Vector{Matrix{Float64}}(undef, num_features_gamma)\n",
    "                a_tau_prior[k][t][z] = ones(num_features_gamma) .* .01\n",
    "                b_tau_prior[k][t][z] = ones(num_features_gamma) .* .01\n",
    "                for m in 1:num_features_gamma\n",
    "                    mu_omega_prior[k][t][z][m] = zeros(num_features_omega)\n",
    "                    L_omega_prior[k][t][z][m] = Matrix{Float64}(1.0I, num_features_omega, num_features_omega)\n",
    "                end\n",
    "            end\n",
    "        end\n",
    "    end\n",
    "end"
   ]
  },
  {
   "cell_type": "code",
   "execution_count": 14,
   "id": "19a0784e",
   "metadata": {},
   "outputs": [
    {
     "name": "stdout",
     "output_type": "stream",
     "text": [
      "TDCModel constructed for computation on 12 threads\n"
     ]
    }
   ],
   "source": [
    "M = 10\n",
    "model = TDCModel(obs, mu_beta_prior, L_beta_prior, mu_omega_prior, L_omega_prior, a_tau_prior, b_tau_prior, M, enable_parallel=true)\n",
    "optim = ADAMparams(model);"
   ]
  },
  {
   "cell_type": "code",
   "execution_count": 15,
   "id": "25899c70",
   "metadata": {},
   "outputs": [],
   "source": [
    "#Initialize betas in the correct direction\n",
    "for j in 1:J\n",
    "    model.mu_beta_star[j] = ones(length(model.mu_beta_star[j]))\n",
    "    model.mu_beta_star[j][1] = -1\n",
    "end\n",
    "\n",
    "# Sample Z values\n",
    "for i in 1:N\n",
    "    for t in 1:O\n",
    "        sample_Z(model, i, t)\n",
    "    end\n",
    "end\n",
    "\n",
    "# Sample beta\n",
    "sample_β(model)\n",
    "\n",
    "# Sample gammas\n",
    "for k in 1:K\n",
    "    for t in 1:O\n",
    "        if t == 1\n",
    "            for s in 1:S\n",
    "                sample_γ(model, s, t, k, 1)\n",
    "            end\n",
    "        else\n",
    "            for z in 1:2\n",
    "                for s in 1:S\n",
    "                    sample_γ(model, s, t, k, z)\n",
    "                end\n",
    "            end\n",
    "        end\n",
    "    end\n",
    "end\n",
    "\n",
    "# Sample omega and tau values\n",
    "for k in 1:K\n",
    "    for t in 1:O\n",
    "        num_features = length(model.gamma_sample[k][t][1][1][1])\n",
    "        if t == 1\n",
    "            for feature in 1:num_features\n",
    "                sample_ω(model, k, t, 1, feature)\n",
    "                sample_τ(model, k, t, 1, feature)\n",
    "            end\n",
    "        else\n",
    "            for z in 1:2\n",
    "                for feature in 1:num_features\n",
    "                    sample_ω(model, k, t, z, feature)\n",
    "                    sample_τ(model, k, t, z, feature)\n",
    "                end\n",
    "            end\n",
    "        end\n",
    "    end\n",
    "end"
   ]
  },
  {
   "cell_type": "code",
   "execution_count": 16,
   "id": "23b523ca",
   "metadata": {},
   "outputs": [
    {
     "name": "stdout",
     "output_type": "stream",
     "text": [
      "1, 3, 4, 14\n",
      "1, 3, 3, 7\n",
      "1, 3, 3, 36\n",
      "1, 3, 4, 43\n",
      "1, 3, 3, 29\n",
      "1, 3, 3, 22\n",
      "1, 3, 3, 1\n"
     ]
    },
    {
     "ename": "LoadError",
     "evalue": "TaskFailedException\n\n\u001b[91m    nested task error: \u001b[39mPosDefException: matrix is not Hermitian; Cholesky factorization failed.\n    Stacktrace:\n      [1] \u001b[0m\u001b[1mcheckpositivedefinite\u001b[22m\u001b[0m\u001b[1m(\u001b[22m\u001b[90minfo\u001b[39m::\u001b[0mInt64\u001b[0m\u001b[1m)\u001b[22m\n    \u001b[90m    @\u001b[39m \u001b[36mLinearAlgebra\u001b[39m \u001b[90mC:\\Users\\14842\\AppData\\Local\\Programs\\Julia-1.10.2\\share\\julia\\stdlib\\v1.10\\LinearAlgebra\\src\\\u001b[39m\u001b[90m\u001b[4mfactorization.jl:67\u001b[24m\u001b[39m\n      [2] \u001b[0m\u001b[1mcholesky!\u001b[22m\u001b[0m\u001b[1m(\u001b[22m\u001b[90mA\u001b[39m::\u001b[0mMatrix\u001b[90m{Float64}\u001b[39m, ::\u001b[0mNoPivot; \u001b[90mcheck\u001b[39m::\u001b[0mBool\u001b[0m\u001b[1m)\u001b[22m\n    \u001b[90m    @\u001b[39m \u001b[36mLinearAlgebra\u001b[39m \u001b[90mC:\\Users\\14842\\AppData\\Local\\Programs\\Julia-1.10.2\\share\\julia\\stdlib\\v1.10\\LinearAlgebra\\src\\\u001b[39m\u001b[90m\u001b[4mcholesky.jl:298\u001b[24m\u001b[39m\n      [3] \u001b[0m\u001b[1mcholesky!\u001b[22m\u001b[90m (repeats 2 times)\u001b[39m\n    \u001b[90m    @\u001b[39m \u001b[90mC:\\Users\\14842\\AppData\\Local\\Programs\\Julia-1.10.2\\share\\julia\\stdlib\\v1.10\\LinearAlgebra\\src\\\u001b[39m\u001b[90m\u001b[4mcholesky.jl:295\u001b[24m\u001b[39m\u001b[90m [inlined]\u001b[39m\n      [4] \u001b[0m\u001b[1mcholesky\u001b[22m\u001b[90m (repeats 2 times)\u001b[39m\n    \u001b[90m    @\u001b[39m \u001b[90mC:\\Users\\14842\\AppData\\Local\\Programs\\Julia-1.10.2\\share\\julia\\stdlib\\v1.10\\LinearAlgebra\\src\\\u001b[39m\u001b[90m\u001b[4mcholesky.jl:401\u001b[24m\u001b[39m\u001b[90m [inlined]\u001b[39m\n      [5] \u001b[0m\u001b[1mPDMats.PDMat\u001b[22m\u001b[0m\u001b[1m(\u001b[22m\u001b[90mmat\u001b[39m::\u001b[0mMatrix\u001b[90m{Float64}\u001b[39m\u001b[0m\u001b[1m)\u001b[22m\n    \u001b[90m    @\u001b[39m \u001b[32mPDMats\u001b[39m \u001b[90mC:\\Users\\14842\\.julia\\packages\\PDMats\\cAM9h\\src\\\u001b[39m\u001b[90m\u001b[4mpdmat.jl:19\u001b[24m\u001b[39m\n      [6] \u001b[0m\u001b[1mMvNormal\u001b[22m\n    \u001b[90m    @\u001b[39m \u001b[90mC:\\Users\\14842\\.julia\\packages\\Distributions\\fgrZq\\src\\multivariate\\\u001b[39m\u001b[90m\u001b[4mmvnormal.jl:201\u001b[24m\u001b[39m\u001b[90m [inlined]\u001b[39m\n      [7] \u001b[0m\u001b[1msample_γ\u001b[22m\u001b[0m\u001b[1m(\u001b[22m\u001b[90mmodel\u001b[39m::\u001b[0mTDCModel\u001b[90m{Float64}\u001b[39m, \u001b[90midx_group\u001b[39m::\u001b[0mInt64, \u001b[90midx_time\u001b[39m::\u001b[0mInt64, \u001b[90midx_skill\u001b[39m::\u001b[0mInt64, \u001b[90midx_transition\u001b[39m::\u001b[0mInt64\u001b[0m\u001b[1m)\u001b[22m\n    \u001b[90m    @\u001b[39m \u001b[35mMain\u001b[39m \u001b[90mc:\\Users\\14842\\Desktop\\BBVI\\TCDM_model\\\u001b[39m\u001b[90m\u001b[4mTDCM_full_transition.jl:478\u001b[24m\u001b[39m\n      [8] \u001b[0m\u001b[1mmacro expansion\u001b[22m\n    \u001b[90m    @\u001b[39m \u001b[90mc:\\Users\\14842\\Desktop\\BBVI\\TCDM_model\\\u001b[39m\u001b[90m\u001b[4mTDCM_full_transition.jl:1533\u001b[24m\u001b[39m\u001b[90m [inlined]\u001b[39m\n      [9] \u001b[0m\u001b[1m(::var\"#358#threadsfor_fun#214\"{var\"#358#threadsfor_fun#196#215\"{Float64, Float64, var\"##get_robbins_monroe_iterator_FSMI#240\"{Int64, Float64, Int64}, Bool, Int64, Float64, ADAMparams{Float64}, TDCModel{Float64}, Int64, Int64, Vector{Vector{Vector{Vector{Matrix{Float64}}}}}, Vector{Vector{Vector{Vector{Vector{Float64}}}}}, Vector{Vector{Vector{Vector{Vector{Float64}}}}}, Vector{Vector{Vector{Vector{Vector{Vector{Float64}}}}}}, Vector{Vector{Vector{Vector{Vector{Vector{Float64}}}}}}, Vector{Vector{Vector{Vector{Int64}}}}, TDCMObs{Float64}, Vector{NTuple{4, Int64}}}})\u001b[22m\u001b[0m\u001b[1m(\u001b[22m\u001b[90mtid\u001b[39m::\u001b[0mInt64; \u001b[90monethread\u001b[39m::\u001b[0mBool\u001b[0m\u001b[1m)\u001b[22m\n    \u001b[90m    @\u001b[39m \u001b[35mMain\u001b[39m \u001b[90m.\\\u001b[39m\u001b[90m\u001b[4mthreadingconstructs.jl:215\u001b[24m\u001b[39m\n     [10] \u001b[0m\u001b[1m#358#threadsfor_fun\u001b[22m\n    \u001b[90m    @\u001b[39m \u001b[90m.\\\u001b[39m\u001b[90m\u001b[4mthreadingconstructs.jl:182\u001b[24m\u001b[39m\u001b[90m [inlined]\u001b[39m\n     [11] \u001b[0m\u001b[1m(::Base.Threads.var\"#1#2\"{var\"#358#threadsfor_fun#214\"{var\"#358#threadsfor_fun#196#215\"{Float64, Float64, var\"##get_robbins_monroe_iterator_FSMI#240\"{Int64, Float64, Int64}, Bool, Int64, Float64, ADAMparams{Float64}, TDCModel{Float64}, Int64, Int64, Vector{Vector{Vector{Vector{Matrix{Float64}}}}}, Vector{Vector{Vector{Vector{Vector{Float64}}}}}, Vector{Vector{Vector{Vector{Vector{Float64}}}}}, Vector{Vector{Vector{Vector{Vector{Vector{Float64}}}}}}, Vector{Vector{Vector{Vector{Vector{Vector{Float64}}}}}}, Vector{Vector{Vector{Vector{Int64}}}}, TDCMObs{Float64}, Vector{NTuple{4, Int64}}}}, Int64})\u001b[22m\u001b[0m\u001b[1m(\u001b[22m\u001b[0m\u001b[1m)\u001b[22m\n    \u001b[90m    @\u001b[39m \u001b[90mBase.Threads\u001b[39m \u001b[90m.\\\u001b[39m\u001b[90m\u001b[4mthreadingconstructs.jl:154\u001b[24m\u001b[39m\n\n...and 6 more exceptions.\n",
     "output_type": "error",
     "traceback": [
      "TaskFailedException\n\n\u001b[91m    nested task error: \u001b[39mPosDefException: matrix is not Hermitian; Cholesky factorization failed.\n    Stacktrace:\n      [1] \u001b[0m\u001b[1mcheckpositivedefinite\u001b[22m\u001b[0m\u001b[1m(\u001b[22m\u001b[90minfo\u001b[39m::\u001b[0mInt64\u001b[0m\u001b[1m)\u001b[22m\n    \u001b[90m    @\u001b[39m \u001b[36mLinearAlgebra\u001b[39m \u001b[90mC:\\Users\\14842\\AppData\\Local\\Programs\\Julia-1.10.2\\share\\julia\\stdlib\\v1.10\\LinearAlgebra\\src\\\u001b[39m\u001b[90m\u001b[4mfactorization.jl:67\u001b[24m\u001b[39m\n      [2] \u001b[0m\u001b[1mcholesky!\u001b[22m\u001b[0m\u001b[1m(\u001b[22m\u001b[90mA\u001b[39m::\u001b[0mMatrix\u001b[90m{Float64}\u001b[39m, ::\u001b[0mNoPivot; \u001b[90mcheck\u001b[39m::\u001b[0mBool\u001b[0m\u001b[1m)\u001b[22m\n    \u001b[90m    @\u001b[39m \u001b[36mLinearAlgebra\u001b[39m \u001b[90mC:\\Users\\14842\\AppData\\Local\\Programs\\Julia-1.10.2\\share\\julia\\stdlib\\v1.10\\LinearAlgebra\\src\\\u001b[39m\u001b[90m\u001b[4mcholesky.jl:298\u001b[24m\u001b[39m\n      [3] \u001b[0m\u001b[1mcholesky!\u001b[22m\u001b[90m (repeats 2 times)\u001b[39m\n    \u001b[90m    @\u001b[39m \u001b[90mC:\\Users\\14842\\AppData\\Local\\Programs\\Julia-1.10.2\\share\\julia\\stdlib\\v1.10\\LinearAlgebra\\src\\\u001b[39m\u001b[90m\u001b[4mcholesky.jl:295\u001b[24m\u001b[39m\u001b[90m [inlined]\u001b[39m\n      [4] \u001b[0m\u001b[1mcholesky\u001b[22m\u001b[90m (repeats 2 times)\u001b[39m\n    \u001b[90m    @\u001b[39m \u001b[90mC:\\Users\\14842\\AppData\\Local\\Programs\\Julia-1.10.2\\share\\julia\\stdlib\\v1.10\\LinearAlgebra\\src\\\u001b[39m\u001b[90m\u001b[4mcholesky.jl:401\u001b[24m\u001b[39m\u001b[90m [inlined]\u001b[39m\n      [5] \u001b[0m\u001b[1mPDMats.PDMat\u001b[22m\u001b[0m\u001b[1m(\u001b[22m\u001b[90mmat\u001b[39m::\u001b[0mMatrix\u001b[90m{Float64}\u001b[39m\u001b[0m\u001b[1m)\u001b[22m\n    \u001b[90m    @\u001b[39m \u001b[32mPDMats\u001b[39m \u001b[90mC:\\Users\\14842\\.julia\\packages\\PDMats\\cAM9h\\src\\\u001b[39m\u001b[90m\u001b[4mpdmat.jl:19\u001b[24m\u001b[39m\n      [6] \u001b[0m\u001b[1mMvNormal\u001b[22m\n    \u001b[90m    @\u001b[39m \u001b[90mC:\\Users\\14842\\.julia\\packages\\Distributions\\fgrZq\\src\\multivariate\\\u001b[39m\u001b[90m\u001b[4mmvnormal.jl:201\u001b[24m\u001b[39m\u001b[90m [inlined]\u001b[39m\n      [7] \u001b[0m\u001b[1msample_γ\u001b[22m\u001b[0m\u001b[1m(\u001b[22m\u001b[90mmodel\u001b[39m::\u001b[0mTDCModel\u001b[90m{Float64}\u001b[39m, \u001b[90midx_group\u001b[39m::\u001b[0mInt64, \u001b[90midx_time\u001b[39m::\u001b[0mInt64, \u001b[90midx_skill\u001b[39m::\u001b[0mInt64, \u001b[90midx_transition\u001b[39m::\u001b[0mInt64\u001b[0m\u001b[1m)\u001b[22m\n    \u001b[90m    @\u001b[39m \u001b[35mMain\u001b[39m \u001b[90mc:\\Users\\14842\\Desktop\\BBVI\\TCDM_model\\\u001b[39m\u001b[90m\u001b[4mTDCM_full_transition.jl:478\u001b[24m\u001b[39m\n      [8] \u001b[0m\u001b[1mmacro expansion\u001b[22m\n    \u001b[90m    @\u001b[39m \u001b[90mc:\\Users\\14842\\Desktop\\BBVI\\TCDM_model\\\u001b[39m\u001b[90m\u001b[4mTDCM_full_transition.jl:1533\u001b[24m\u001b[39m\u001b[90m [inlined]\u001b[39m\n      [9] \u001b[0m\u001b[1m(::var\"#358#threadsfor_fun#214\"{var\"#358#threadsfor_fun#196#215\"{Float64, Float64, var\"##get_robbins_monroe_iterator_FSMI#240\"{Int64, Float64, Int64}, Bool, Int64, Float64, ADAMparams{Float64}, TDCModel{Float64}, Int64, Int64, Vector{Vector{Vector{Vector{Matrix{Float64}}}}}, Vector{Vector{Vector{Vector{Vector{Float64}}}}}, Vector{Vector{Vector{Vector{Vector{Float64}}}}}, Vector{Vector{Vector{Vector{Vector{Vector{Float64}}}}}}, Vector{Vector{Vector{Vector{Vector{Vector{Float64}}}}}}, Vector{Vector{Vector{Vector{Int64}}}}, TDCMObs{Float64}, Vector{NTuple{4, Int64}}}})\u001b[22m\u001b[0m\u001b[1m(\u001b[22m\u001b[90mtid\u001b[39m::\u001b[0mInt64; \u001b[90monethread\u001b[39m::\u001b[0mBool\u001b[0m\u001b[1m)\u001b[22m\n    \u001b[90m    @\u001b[39m \u001b[35mMain\u001b[39m \u001b[90m.\\\u001b[39m\u001b[90m\u001b[4mthreadingconstructs.jl:215\u001b[24m\u001b[39m\n     [10] \u001b[0m\u001b[1m#358#threadsfor_fun\u001b[22m\n    \u001b[90m    @\u001b[39m \u001b[90m.\\\u001b[39m\u001b[90m\u001b[4mthreadingconstructs.jl:182\u001b[24m\u001b[39m\u001b[90m [inlined]\u001b[39m\n     [11] \u001b[0m\u001b[1m(::Base.Threads.var\"#1#2\"{var\"#358#threadsfor_fun#214\"{var\"#358#threadsfor_fun#196#215\"{Float64, Float64, var\"##get_robbins_monroe_iterator_FSMI#240\"{Int64, Float64, Int64}, Bool, Int64, Float64, ADAMparams{Float64}, TDCModel{Float64}, Int64, Int64, Vector{Vector{Vector{Vector{Matrix{Float64}}}}}, Vector{Vector{Vector{Vector{Vector{Float64}}}}}, Vector{Vector{Vector{Vector{Vector{Float64}}}}}, Vector{Vector{Vector{Vector{Vector{Vector{Float64}}}}}}, Vector{Vector{Vector{Vector{Vector{Vector{Float64}}}}}}, Vector{Vector{Vector{Vector{Int64}}}}, TDCMObs{Float64}, Vector{NTuple{4, Int64}}}}, Int64})\u001b[22m\u001b[0m\u001b[1m(\u001b[22m\u001b[0m\u001b[1m)\u001b[22m\n    \u001b[90m    @\u001b[39m \u001b[90mBase.Threads\u001b[39m \u001b[90m.\\\u001b[39m\u001b[90m\u001b[4mthreadingconstructs.jl:154\u001b[24m\u001b[39m\n\n...and 6 more exceptions.\n",
      "",
      "Stacktrace:",
      " [1] threading_run(fun::var\"#358#threadsfor_fun#214\"{var\"#358#threadsfor_fun#196#215\"{Float64, Float64, var\"##get_robbins_monroe_iterator_FSMI#240\"{Int64, Float64, Int64}, Bool, Int64, Float64, ADAMparams{Float64}, TDCModel{Float64}, Int64, Int64, Vector{Vector{Vector{Vector{Matrix{Float64}}}}}, Vector{Vector{Vector{Vector{Vector{Float64}}}}}, Vector{Vector{Vector{Vector{Vector{Float64}}}}}, Vector{Vector{Vector{Vector{Vector{Vector{Float64}}}}}}, Vector{Vector{Vector{Vector{Vector{Vector{Float64}}}}}}, Vector{Vector{Vector{Vector{Int64}}}}, TDCMObs{Float64}, Vector{NTuple{4, Int64}}}}, static::Bool)",
      "   @ Base.Threads .\\threadingconstructs.jl:172",
      " [2] macro expansion",
      "   @ .\\threadingconstructs.jl:220 [inlined]",
      " [3] update_normal_variational_distribution2(model::TDCModel{Float64}; init_step::Float64, step_iterator::var\"##get_robbins_monroe_iterator_FSMI#240\"{Int64, Float64, Int64}, use_iter::Bool, maxiter::Int64, clip::Float64, verbose::Bool, ADAMparams::ADAMparams{Float64})",
      "   @ Main c:\\Users\\14842\\Desktop\\BBVI\\TCDM_model\\TDCM_full_transition.jl:1456",
      " [4] top-level scope",
      "   @ .\\In[16]:5"
     ]
    }
   ],
   "source": [
    "for iter in 1:300\n",
    "    update_categorical_variational_distribution(model, 1, step=.001, maxiter=5, verbose=false)\n",
    "    update_categorical_variational_distribution(model, 2, step=.001, maxiter=5, verbose=false)\n",
    "    update_normal_variational_distribution(model, init_step = .0001, maxiter = 5, clip = 50.0, verbose = false, ADAMparams=optim)\n",
    "    update_normal_variational_distribution2(model, init_step = .001, maxiter = 10, clip = 50.0, verbose = false, ADAMparams=optim)\n",
    "    update_normal_variational_distribution3(model, init_step = .001, maxiter = 10, clip = 50.0, verbose = false, ADAMparams=optim)\n",
    "    update_inverse_gamma_distribution(model, step = .001, maxiter = 5, verbose = false, ADAMparams=optim)\n",
    "end"
   ]
  },
  {
   "cell_type": "code",
   "execution_count": 17,
   "id": "82072911",
   "metadata": {},
   "outputs": [
    {
     "data": {
      "text/plain": [
       "3×3 Matrix{Float64}:\n",
       "  Inf  NaN  NaN\n",
       " NaN   NaN  NaN\n",
       " NaN   NaN  NaN"
      ]
     },
     "execution_count": 17,
     "metadata": {},
     "output_type": "execute_result"
    }
   ],
   "source": [
    "model.V_gamma_star[1][3][3][1]"
   ]
  },
  {
   "cell_type": "code",
   "execution_count": 18,
   "id": "4d5d3356",
   "metadata": {},
   "outputs": [
    {
     "data": {
      "text/plain": [
       "12-element Vector{Vector{Float64}}:\n",
       " [-Inf, Inf, Inf, 12868.950663894377, -27962.0233418303, 9869.444969369542, -25414.19504609596, -5821.390520774465]\n",
       " [-50.18258567974776, 3977.410382441626, 3.2915703561801193, 3.297912917961873, 3.2925330207686487, 3.3010415670652833, 3.3036539746136873, 3.309976563813477]\n",
       " [Inf, Inf, -Inf, 1.775513495061018, 1.7752949161954104, 1.773112671168238, 1.7696389626129272, 1.7578007990451512]\n",
       " [-367.5203617018443, -439.40880495526534, -270.1637614283896, -22.13325023180693, 3.163090441854432, 3.1657964354179, 3.1644108572652714, 3.160911576295537]\n",
       " [-154.09765692539239, -312.3667886509705, 134.81830066939264, 2.6167499775588987, 2.620424939460397, 2.6114120468772173, 2.615747751690629, 2.6128134544613713]\n",
       " [Inf, Inf, Inf, -6496.378157316934, 2.7671886863636845, -19.322877536870052, 2.76558937237041, 2.7542448047833754]\n",
       " [-51.44147230744061, -36.3317942121499, 53.18314953689884, 2564.687250090563, 6009.342622964908, -1847.6851090977002, 15739.21101710165, -3551.6555471028687]\n",
       " [-Inf, Inf, Inf, 7994.002622587304, 3.3242740771680306, 3.32254599254073, 3.3163345704416742, 3.307573396551887]\n",
       " [-28.474671989426128, -60.61069299554797, 56.37392647618934, 2.6589320641763003, 2.6622120438985326, 2.6663272785476932, 2.6618651807237557, -18.622868653429027]\n",
       " [-Inf, -Inf, Inf, 7975.909367039838, -11416.960272078903, 6834.422497582391, -20251.428484155225, -13829.319457476133]\n",
       " [-Inf, -Inf, -Inf, -13894.154595787428, 2.5474396061100535, 2.5435522793025678, 2.540844543443039, 2.5268704752186766]\n",
       " [-Inf, Inf, -Inf, 2.170426788439072, -15.198708263162791, 2.1738115691741253, 2.1720354583262305, 2.172772542667777]"
      ]
     },
     "execution_count": 18,
     "metadata": {},
     "output_type": "execute_result"
    }
   ],
   "source": [
    "model.storage_grad_L_par"
   ]
  },
  {
   "cell_type": "code",
   "execution_count": 19,
   "id": "a8f7ab6b",
   "metadata": {},
   "outputs": [
    {
     "data": {
      "text/plain": [
       "12-element Vector{Matrix{Float64}}:\n",
       " [0.0 0.0 … 0.0 0.0; 0.0 0.0 … 0.0 0.0; … ; 0.5998733307380518 0.16902033981824535 … -0.3783472097277249 0.0; 0.43988225743677156 0.27893996123345094 … 0.4366615141583316 -0.22989979903007576]\n",
       " [-0.6763443151373586 0.0 … 6.9527700721797e-310 6.9527700721797e-310; -0.7910825917955041 -0.6890908297222517 … 6.9527700724105e-310 6.9527700724105e-310; … ; 6.9527700721797e-310 6.9527700721797e-310 … 6.9527700721797e-310 6.9527700724105e-310; 6.9527700724105e-310 6.9527700724105e-310 … 6.9527700724105e-310 0.0]\n",
       " [0.0 0.0 … 6.9527700721797e-310 6.9527700721797e-310; 0.0 0.0 … 6.9527700724105e-310 6.9527700724105e-310; … ; 6.9527700721797e-310 6.9527700721797e-310 … 6.9527700721797e-310 6.9527700724105e-310; 6.9527700724105e-310 6.9527700724105e-310 … 6.9527700724105e-310 6.95276652756143e-310]\n",
       " [-0.7865503724686799 0.0 … 1.4247881989206e-311 1.4247881990787e-311; 0.1978739784979701 -0.901058654001444 … 1.4247881989364e-311 1.4247881990945e-311; … ; 1.424788197893e-311 1.4247881980195e-311 … 1.424788199047e-311 1.424312765415e-311; 1.424788197909e-311 1.4247881980353e-311 … 1.424788199063e-311 1.42478742704e-311]\n",
       " [-0.30715896270439713 0.0 … 2.4e-322 2.8e-322; 0.49305012388087793 -0.06918368491180805 … NaN 2.87e-322; … ; 3.5e-323 7.4e-323 … 2.7e-322 3.1e-322; 4.0e-323 8.0e-323 … 2.77e-322 NaN]\n",
       " [0.0 0.0 … 1.424302475016e-311 1.424299183195e-311; 0.0 0.0 … 1.4242991831316e-311 1.4243024750317e-311; … ; 1.424299182499e-311 1.424302474921e-311 … 1.424299183163e-311 0.0; 1.4247916129933e-311 1.424299984174e-311 … 1.424299183179e-311 0.0]\n",
       " [-0.7329972474881166 0.0 … 0.0 0.0; 0.49040208521598094 -0.6274942371689505 … 0.0 0.0; … ; -0.5216000461568948 -0.1268812097364505 … 0.008022268035966663 0.0; 0.019712467930515377 0.4014179060692235 … -0.10158437906906534 -0.6113708096558209]\n",
       " [0.0 0.0 … 1.424299076366e-311 1.424299075781e-311; 0.0 0.0 … 1.424299075718e-311 1.4247989286747e-311; … ; 1.4242893975805e-311 1.424299076287e-311 … 1.4242990757494e-311 5.0e-323; 1.4247989286984e-311 1.4247989285166e-311 … 1.424299075765e-311 5.0e-323]\n",
       " [-0.6299107465108823 0.0 … 2.47e-322 2.87e-322; 0.3381485625161455 -0.7644902545803175 … 2.5e-322 2.9e-322; … ; 4.0e-323 8.0e-323 … 2.77e-322 3.2e-322; 4.4e-323 8.4e-323 … 2.8e-322 5.4e-323]\n",
       " [0.0 0.0 … 0.0 0.0; 0.0 0.0 … 0.0 0.0; … ; -0.30426863118261377 -0.11661409789837236 … -0.23140254769493926 0.0; 0.27669580733824656 -0.34114853157276137 … 0.6818304761417903 0.20323532962638194]\n",
       " [0.0 0.0 … 0.0 0.0; 0.0 0.0 … 0.0 0.0; … ; 0.0 0.0 … 0.0 0.0; 0.0 0.0 … 0.0 5.0e-323]\n",
       " [0.0 0.0 … 0.0 0.0; 0.0 0.0 … 0.0 0.0; … ; 1.4242969511406e-311 1.424296721341e-311 … 0.0 0.0; 1.4242969509984e-311 1.4242967213566e-311 … 0.0 5.0e-323]"
      ]
     },
     "execution_count": 19,
     "metadata": {},
     "output_type": "execute_result"
    }
   ],
   "source": [
    "model.storage_LL2_par"
   ]
  },
  {
   "cell_type": "code",
   "execution_count": 13,
   "id": "0d2dd799",
   "metadata": {},
   "outputs": [
    {
     "data": {
      "text/plain": [
       "3-element Vector{Float64}:\n",
       "  3.063339155488862\n",
       "  1.2108126901587353\n",
       " -1.4172682596734025"
      ]
     },
     "execution_count": 13,
     "metadata": {},
     "output_type": "execute_result"
    }
   ],
   "source": [
    "data.mu_gamma_star[1][3][3][1]"
   ]
  }
 ],
 "metadata": {
  "kernelspec": {
   "display_name": "Julia 12 Threads 1.10.2",
   "language": "julia",
   "name": "julia-12-threads-1.10"
  },
  "language_info": {
   "file_extension": ".jl",
   "mimetype": "application/julia",
   "name": "julia",
   "version": "1.10.2"
  }
 },
 "nbformat": 4,
 "nbformat_minor": 5
}
