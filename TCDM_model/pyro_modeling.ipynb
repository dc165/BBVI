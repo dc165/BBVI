{
 "cells": [
  {
   "cell_type": "code",
   "execution_count": null,
   "metadata": {},
   "outputs": [],
   "source": [
    "import torch\n",
    "import pyro"
   ]
  },
  {
   "cell_type": "code",
   "execution_count": 157,
   "metadata": {},
   "outputs": [],
   "source": [
    "import pyro.distributions as dist\n",
    "import pyro.distributions.constraints as constraints\n",
    "\n",
    "def DCModel(Y, D):\n",
    "    N, J, L = Y.shape[0], Y.shape[1], D[1].shape[0]\n",
    "    beta_dims = list(map(lambda x: x.shape[1], D))\n",
    "\n",
    "    a0 = torch.tensor(0.1)\n",
    "    b0 = torch.tensor(0.1)\n",
    "    d0 = torch.ones(L) * 0.1\n",
    "    sigma2 = pyro.sample(\"item_response_variance\", dist.InverseGamma(a0, b0))\n",
    "    pi = pyro.sample(\"profile_probabilities\", dist.Dirichlet(d0))\n",
    "    betas = [torch.zeros(D[j].shape[1]) for j in range(J)]\n",
    "    profiles = torch.Tensor(N, L)\n",
    "\n",
    "    question_indices = pyro.plate(\"questions\", size = J)\n",
    "    individual_indices = pyro.plate(\"individuals\", size = N)\n",
    "    \n",
    "    for j in question_indices:\n",
    "        dim = beta_dims[j]\n",
    "        betas[j] = pyro.sample(\"item_response_coefficients_{}\".format(j), \n",
    "                               dist.MultivariateNormal(torch.zeros(D[j].shape[1]), sigma2 * torch.eye(D[j].shape[1])))\n",
    "\n",
    "    for i in individual_indices:\n",
    "        profiles[i] = pyro.sample(\"profile_{}\".format(i), dist.Multinomial(1, pi))\n",
    "        for j in question_indices:\n",
    "            p = torch.sigmoid(torch.matmul(torch.matmul(profiles[i], D[j].float()), betas[j]))\n",
    "            pyro.sample(\"obs_{}_{}\".format(i, j), dist.Bernoulli(p), obs = Y[i, j])\n",
    "\n",
    "def DCMguide(Y, D):\n",
    "    N, J, L = Y.shape[0], Y.shape[1], D[1].shape[0]\n",
    "    beta_dims = list(map(lambda x: x.shape[1], D))\n",
    "\n",
    "    a_star = pyro.param(\"a_star\", torch.tensor(0.1),\n",
    "                        constraint = constraints.positive)\n",
    "    b_star = pyro.param(\"b_star\", torch.tensor(0.1),\n",
    "                        constraint = constraints.positive)\n",
    "    d_star = pyro.param(\"d_star\", torch.tensor(torch.ones(L) * 0.1),\n",
    "                        constraint = constraints.positive)\n",
    "    beta_means = [torch.zeros(D[j].shape[1]) for j in range(J)]\n",
    "    beta_vars = [torch.eye(D[j].shape[1]) for j in range(J)]\n",
    "    profiles = torch.Tensor(N, L)\n",
    "\n",
    "    question_indices = pyro.plate(\"questions\", size = J)\n",
    "    individual_indices = pyro.plate(\"individuals\", size = N)\n",
    "\n",
    "    for j in question_indices:\n",
    "        beta_means[j] = pyro.param(\"beta_mean_{}\".format(j), torch.zeros(D[j].shape[1]),\n",
    "                                   constraint = constraints.real)\n",
    "        beta_vars[j] = pyro.param(\"beta_var_{}\".format(j), torch.eye(D[j].shape[1]),\n",
    "                                   constraint = constraints.positive_definite)\n",
    "    \n",
    "    for i in individual_indices:\n",
    "        profiles[i] = pyro.param(\"pi_probs_{}\".format(i), torch.ones(L) * 0.25,\n",
    "                                   constraint = constraints.simplex)\n",
    "        \n",
    "    pyro.sample(\"item_response_variance\", dist.InverseGamma(a_star, b_star))\n",
    "    pyro.sample(\"profile_probabilities\", dist.Dirichlet(d_star))\n",
    "    for j in question_indices:\n",
    "        pyro.sample(\"item_response_coefficients_{}\".format(j), \n",
    "                    dist.MultivariateNormal(beta_means[j], beta_vars[j]))\n",
    "    for i in individual_indices:\n",
    "        pyro.sample(\"profile_{}\".format(i), dist.Multinomial(1, profiles[i]))\n",
    "\n"
   ]
  },
  {
   "cell_type": "code",
   "execution_count": 158,
   "metadata": {},
   "outputs": [],
   "source": [
    "def dim_beta(d):\n",
    "    # return 2**int(d).bit_count()\n",
    "    return 2 ** bin(d).count(\"1\") \n",
    "def generate_beta(d):\n",
    "    if (d == 1):\n",
    "        return torch.distributions.uniform.Uniform(-1.15,-1.05).sample([1])\n",
    "    elif (d == 2):\n",
    "        return torch.cat(( torch.distributions.uniform.Uniform(-1.15,-1.05).sample([1]), torch.distributions.uniform.Uniform(2.9,3.1).sample([1])))\n",
    "    elif (d == 4):\n",
    "        return torch.cat(( torch.distributions.uniform.Uniform(-1.15,-1.05).sample([1]), torch.distributions.uniform.Uniform(1.45,1.55).sample([2]), \n",
    "                             torch.distributions.uniform.Uniform(0.45,0.55).sample([1])))\n",
    "    elif (d == 8):\n",
    "        return torch.cat(( torch.distributions.uniform.Uniform(-1.15,-1.05).sample([1]), torch.distributions.uniform.Uniform(0.65,0.75).sample([2]), \n",
    "                             torch.distributions.uniform.Uniform(0.55,0.65).sample([1]),torch.distributions.uniform.Uniform(0.65,0.75).sample([1]),\n",
    "                           torch.distributions.uniform.Uniform(0.55,0.65).sample([2]), torch.distributions.uniform.Uniform(0.35,0.45).sample([1]) ))\n",
    "    elif (d == 16):\n",
    "        return torch.cat(( torch.distributions.uniform.Uniform(-2.02,-1.99).sample([1]), torch.distributions.uniform.Uniform(0.68,0.72).sample([2]), \n",
    "                             torch.distributions.uniform.Uniform(0.23,0.27).sample([1]),torch.distributions.uniform.Uniform(0.68,0.72).sample([1]),\n",
    "                           torch.distributions.uniform.Uniform(0.23,0.27).sample([2]), torch.distributions.uniform.Uniform(0.18,0.22).sample([1]), \n",
    "                         torch.distributions.uniform.Uniform(0.68,0.72).sample([1]), torch.distributions.uniform.Uniform(0.23,0.27).sample([2]), \n",
    "                             torch.distributions.uniform.Uniform(0.23,0.27).sample([1]),torch.distributions.uniform.Uniform(0.68,0.72).sample([1]),\n",
    "                           torch.distributions.uniform.Uniform(0.23,0.27).sample([2]), torch.distributions.uniform.Uniform(0.13,0.17).sample([1]), \n",
    "                         ))\n",
    "    else:\n",
    "        return 0\n",
    "    \n",
    "def delta(skill, q):\n",
    "    if q == 0:\n",
    "        return 1\n",
    "    return((skill & q) == q)\n",
    "# function to determine all relevant subsets of skills for a given question\n",
    "def subset(q):\n",
    "    list = [q]\n",
    "    i = q\n",
    "    while i > 0:\n",
    "        i = (i-1) & q\n",
    "        list.append(i)\n",
    "    list.sort()\n",
    "    return list    \n",
    "# generate delta matrix for given question profile\n",
    "def generate_delta(L, q):\n",
    "    sbset_q = subset(q)\n",
    "    return torch.tensor([delta(x,y) for x in range(L) for y in sbset_q]).reshape(L, len(sbset_q))"
   ]
  },
  {
   "cell_type": "code",
   "execution_count": 159,
   "metadata": {},
   "outputs": [
    {
     "name": "stderr",
     "output_type": "stream",
     "text": [
      "C:\\Users\\14842\\AppData\\Local\\Temp\\ipykernel_61756\\1807338282.py:31: UserWarning: To copy construct from a tensor, it is recommended to use sourceTensor.clone().detach() or sourceTensor.clone().detach().requires_grad_(True), rather than torch.tensor(sourceTensor).\n",
      "  delta_mat[i].append(torch.tensor(delta_list[j][i]))\n"
     ]
    }
   ],
   "source": [
    "import random\n",
    "import numpy as np\n",
    "\n",
    "random.seed(123)\n",
    "# number of students\n",
    "N = 1000\n",
    "# number of skills\n",
    "k = 2\n",
    "# number of questions\n",
    "J = 25\n",
    "# number of possible skill profiles\n",
    "L = 2**k\n",
    "\n",
    "# generate data\n",
    "# skill profiles\n",
    "skill = torch.multinomial(torch.ones(L), N, replacement = True)\n",
    "# Q matrix -> delta \n",
    "Q = torch.multinomial(torch.ones(L), J, replacement = True)\n",
    "\n",
    "beta_dim = list(map(dim_beta, Q))\n",
    "true_beta = torch.nested.nested_tensor(list(map(generate_beta, beta_dim)))\n",
    "delta_list = torch.nested.nested_tensor(list(map(generate_delta, [L]*len(Q), Q)))\n",
    "beta_mat = torch.nested.to_padded_tensor(true_beta, padding = 0.0, output_size = (J, L))\n",
    "delta_mat = [0]*L\n",
    "for i in range(L):\n",
    "    delta_mat[i] = []\n",
    "    for j in range(J):\n",
    "        if delta_list[j].shape[1] < delta_list[j].shape[0]:\n",
    "            delta_mat[i].append(torch.tensor(np.pad(delta_list[j][i], (0, L - delta_list[j].shape[1] )) ) )\n",
    "        else:\n",
    "            delta_mat[i].append(torch.tensor(delta_list[j][i]))\n",
    "    delta_mat[i] = torch.stack(delta_mat[i])\n",
    "delta_mat = torch.cat(delta_mat)\n",
    "delta_mat = delta_mat.reshape([L,J,L])"
   ]
  },
  {
   "cell_type": "code",
   "execution_count": 160,
   "metadata": {},
   "outputs": [],
   "source": [
    "Y = torch.bernoulli(torch.sigmoid(torch.sum((delta_mat[skill] * beta_mat), axis = 2)))"
   ]
  },
  {
   "cell_type": "code",
   "execution_count": null,
   "metadata": {},
   "outputs": [
    {
     "name": "stderr",
     "output_type": "stream",
     "text": [
      "C:\\Users\\14842\\AppData\\Local\\Temp\\ipykernel_61756\\578047627.py:38: UserWarning: To copy construct from a tensor, it is recommended to use sourceTensor.clone().detach() or sourceTensor.clone().detach().requires_grad_(True), rather than torch.tensor(sourceTensor).\n",
      "  d_star = pyro.param(\"d_star\", torch.tensor(torch.ones(L) * 0.1),\n"
     ]
    },
    {
     "name": "stdout",
     "output_type": "stream",
     "text": [
      "....."
     ]
    }
   ],
   "source": [
    "from pyro.optim import Adam\n",
    "from pyro.infer import SVI, Trace_ELBO\n",
    "\n",
    "pyro.clear_param_store()\n",
    "\n",
    "# setup the optimizer\n",
    "adam_params = {\"lr\": 0.005, \"betas\": (0.90, 0.999)}\n",
    "optimizer = Adam(adam_params)\n",
    "\n",
    "# setup the inference algorithm\n",
    "svi = SVI(DCModel, DCMguide, optimizer, loss=Trace_ELBO())\n"
   ]
  },
  {
   "cell_type": "code",
   "execution_count": 192,
   "metadata": {},
   "outputs": [
    {
     "name": "stderr",
     "output_type": "stream",
     "text": [
      "C:\\Users\\14842\\AppData\\Local\\Temp\\ipykernel_61756\\578047627.py:38: UserWarning: To copy construct from a tensor, it is recommended to use sourceTensor.clone().detach() or sourceTensor.clone().detach().requires_grad_(True), rather than torch.tensor(sourceTensor).\n",
      "  d_star = pyro.param(\"d_star\", torch.tensor(torch.ones(L) * 0.1),\n"
     ]
    },
    {
     "name": "stdout",
     "output_type": "stream",
     "text": [
      "....."
     ]
    }
   ],
   "source": [
    "# do gradient steps\n",
    "for step in range(5):\n",
    "    svi.step(Y, delta_list)\n",
    "    if step % 1 == 0:\n",
    "        print('.', end='')"
   ]
  },
  {
   "cell_type": "code",
   "execution_count": 190,
   "metadata": {},
   "outputs": [
    {
     "data": {
      "text/plain": [
       "tensor([ 0.0095, -0.0144], requires_grad=True)"
      ]
     },
     "execution_count": 190,
     "metadata": {},
     "output_type": "execute_result"
    }
   ],
   "source": [
    "pyro.param(\"beta_mean_3\")"
   ]
  },
  {
   "cell_type": "code",
   "execution_count": 181,
   "metadata": {},
   "outputs": [
    {
     "data": {
      "text/plain": [
       "tensor([[ 0.9900, -0.0050, -0.0050, -0.0050],\n",
       "        [-0.0050,  0.9901, -0.0050, -0.0050],\n",
       "        [-0.0050, -0.0050,  0.9901, -0.0049],\n",
       "        [-0.0050, -0.0050, -0.0049,  0.9901]], grad_fn=<MmBackward0>)"
      ]
     },
     "execution_count": 181,
     "metadata": {},
     "output_type": "execute_result"
    }
   ],
   "source": [
    "pyro.param(\"beta_var_0\")"
   ]
  },
  {
   "cell_type": "code",
   "execution_count": 195,
   "metadata": {},
   "outputs": [
    {
     "data": {
      "text/plain": [
       "tensor([0.2527, 0.2485, 0.2574, 0.2415], grad_fn=<DivBackward0>)"
      ]
     },
     "execution_count": 195,
     "metadata": {},
     "output_type": "execute_result"
    }
   ],
   "source": [
    "pyro.param(\"pi_probs_0\")"
   ]
  },
  {
   "cell_type": "code",
   "execution_count": 193,
   "metadata": {},
   "outputs": [
    {
     "data": {
      "text/plain": [
       "tensor(0.1065, grad_fn=<AddBackward0>)"
      ]
     },
     "execution_count": 193,
     "metadata": {},
     "output_type": "execute_result"
    }
   ],
   "source": [
    "pyro.param(\"a_star\")"
   ]
  },
  {
   "cell_type": "code",
   "execution_count": 194,
   "metadata": {},
   "outputs": [
    {
     "data": {
      "text/plain": [
       "tensor(0.0986, grad_fn=<AddBackward0>)"
      ]
     },
     "execution_count": 194,
     "metadata": {},
     "output_type": "execute_result"
    }
   ],
   "source": [
    "pyro.param(\"b_star\")"
   ]
  },
  {
   "cell_type": "code",
   "execution_count": 196,
   "metadata": {},
   "outputs": [
    {
     "data": {
      "text/plain": [
       "tensor(2)"
      ]
     },
     "execution_count": 196,
     "metadata": {},
     "output_type": "execute_result"
    }
   ],
   "source": [
    "skill[0]"
   ]
  }
 ],
 "metadata": {
  "kernelspec": {
   "display_name": "Python 3",
   "language": "python",
   "name": "python3"
  },
  "language_info": {
   "codemirror_mode": {
    "name": "ipython",
    "version": 3
   },
   "file_extension": ".py",
   "mimetype": "text/x-python",
   "name": "python",
   "nbconvert_exporter": "python",
   "pygments_lexer": "ipython3",
   "version": "3.12.0"
  }
 },
 "nbformat": 4,
 "nbformat_minor": 2
}
