{
 "cells": [
  {
   "cell_type": "code",
   "execution_count": 48,
   "metadata": {},
   "outputs": [],
   "source": [
    "using Distributions, LinearAlgebra, SpecialFunctions"
   ]
  },
  {
   "cell_type": "code",
   "execution_count": 49,
   "metadata": {},
   "outputs": [],
   "source": [
    "function mvloggamma(a :: AbstractFloat, d :: Int)\n",
    "    return d*(d-1)/4 * log(pi) + sum(log.(gamma.(a .+ (Vector(1:d) .- 1) ./ 2)))\n",
    "end\n",
    "\n",
    "function mvdigamma(a :: AbstractFloat, d :: Int)\n",
    "    return sum(digamma.(a .+ (Vector(1:d) .- 1) ./ 2))\n",
    "end;"
   ]
  },
  {
   "cell_type": "code",
   "execution_count": 54,
   "metadata": {},
   "outputs": [
    {
     "data": {
      "text/plain": [
       "InverseWishart{Float64, PDMats.PDMat{Float64, Matrix{Float64}}}(\n",
       "df: 3.0\n",
       "Ψ: [0.3644626975360783 0.38138056271346493 0.556480922755821; 0.38138056271346493 0.4450102536718745 0.7073787197523644; 0.556480922755821 0.7073787197523644 1.2011861478779111]\n",
       ")\n"
      ]
     },
     "metadata": {},
     "output_type": "display_data"
    }
   ],
   "source": [
    "p = 3\n",
    "v = 3\n",
    "L = tril(rand(3, 3))\n",
    "P = L * L'\n",
    "dist = InverseWishart(v, P)"
   ]
  },
  {
   "cell_type": "code",
   "execution_count": null,
   "metadata": {},
   "outputs": [
    {
     "data": {
      "text/plain": [
       "loglikinvwishart (generic function with 1 method)"
      ]
     },
     "metadata": {},
     "output_type": "display_data"
    }
   ],
   "source": [
    "function loglikinvwishart(v, P, X)\n",
    "    dim = size(P, 1)\n",
    "    return v/2 * log(det(P)) - 1/2 * tr(P * inv(X)) - v*dim/2 * log(2) - mvloggamma(v/2, dim) - (v + dim + 1)/2 * log(det(X))\n",
    "end"
   ]
  },
  {
   "cell_type": "code",
   "execution_count": 59,
   "metadata": {},
   "outputs": [
    {
     "data": {
      "text/plain": [
       "-12.417251348755256"
      ]
     },
     "metadata": {},
     "output_type": "display_data"
    }
   ],
   "source": [
    "sampleL = tril(rand(3, 3))\n",
    "sample = sampleL * sampleL'\n",
    "loglikelihood(dist, sample)"
   ]
  },
  {
   "cell_type": "code",
   "execution_count": 60,
   "metadata": {},
   "outputs": [
    {
     "data": {
      "text/plain": [
       "-12.1295692763035"
      ]
     },
     "metadata": {},
     "output_type": "display_data"
    }
   ],
   "source": [
    "loglikinvwishart(v, P, sample)"
   ]
  },
  {
   "cell_type": "code",
   "execution_count": 66,
   "metadata": {},
   "outputs": [
    {
     "data": {
      "text/plain": [
       "-12.1295692763035"
      ]
     },
     "metadata": {},
     "output_type": "display_data"
    }
   ],
   "source": [
    "log(det(P)^(v/2)/(2^(v*p/2) * exp(mvloggamma(v/2, p))) * det(sample)^(-(v + p + 1)/2) * exp(- 1/2 * tr(P * inv(sample))))"
   ]
  },
  {
   "cell_type": "code",
   "execution_count": 78,
   "metadata": {},
   "outputs": [
    {
     "name": "stdout",
     "output_type": "stream",
     "text": [
      "11\n",
      "12\n",
      "13\n",
      "21\n",
      "22\n",
      "23\n",
      "31\n",
      "32\n",
      "33\n"
     ]
    },
    {
     "data": {
      "text/plain": [
       "3×3 Matrix{Float64}:\n",
       "  278.156  -526.896   181.349\n",
       " -526.896  1047.9    -372.686\n",
       "  181.349  -372.686   135.534"
      ]
     },
     "metadata": {},
     "output_type": "display_data"
    }
   ],
   "source": [
    "delta = 1e-8\n",
    "grad = Matrix{Float64}(undef, 3, 3)\n",
    "new = copy(P)\n",
    "for i in 1:3\n",
    "    for j in 1:3\n",
    "        println(i, j)\n",
    "        new[i, j] += delta\n",
    "        # new[j, i] += delta\n",
    "        # new_dist = InverseWishart(v, new)\n",
    "        # grad[i, j] = (loglikelihood(new_dist, sample) - loglikelihood(dist, sample))/delta\n",
    "        grad[i, j] = (loglikinvwishart(v, new, sample) - loglikinvwishart(v, P, sample))/delta\n",
    "        new[i, j] -= delta\n",
    "        # new[j, i] -= delta\n",
    "    end\n",
    "end\n",
    "\n",
    "grad"
   ]
  },
  {
   "cell_type": "code",
   "execution_count": 79,
   "metadata": {},
   "outputs": [
    {
     "data": {
      "text/plain": [
       "3×3 Matrix{Float64}:\n",
       "  278.156  -526.895   181.349\n",
       " -526.895  1047.9    -372.686\n",
       "  181.349  -372.686   135.534"
      ]
     },
     "metadata": {},
     "output_type": "display_data"
    }
   ],
   "source": [
    "v/2 .* inv(P) - 1/2 .* inv(sample)"
   ]
  },
  {
   "cell_type": "code",
   "execution_count": 80,
   "metadata": {},
   "outputs": [
    {
     "data": {
      "text/plain": [
       "-4.910278672554114"
      ]
     },
     "metadata": {},
     "output_type": "display_data"
    }
   ],
   "source": [
    "(loglikinvwishart(v + delta, P, sample) - loglikinvwishart(v - delta, P, sample))/(2 * delta)"
   ]
  },
  {
   "cell_type": "code",
   "execution_count": 81,
   "metadata": {},
   "outputs": [
    {
     "data": {
      "text/plain": [
       "-3.076945542801468"
      ]
     },
     "metadata": {},
     "output_type": "display_data"
    }
   ],
   "source": [
    "dist_delta_1 = InverseWishart(v + delta, P)\n",
    "dist_delta_2 = InverseWishart(v - delta, P)\n",
    "(loglikelihood(dist_delta_1, sample) - loglikelihood(dist_delta_2, sample))/(2 * delta)"
   ]
  },
  {
   "cell_type": "code",
   "execution_count": 82,
   "metadata": {},
   "outputs": [
    {
     "data": {
      "text/plain": [
       "-5.491494245029011"
      ]
     },
     "metadata": {},
     "output_type": "display_data"
    }
   ],
   "source": [
    "1/2 * log(det(P)) - p/2 * log(2) - mvdigamma(v/2, p) - 1/2 * log(det(sample))"
   ]
  },
  {
   "cell_type": "code",
   "execution_count": 26,
   "metadata": {},
   "outputs": [
    {
     "data": {
      "text/plain": [
       "3-element Vector{Int64}:\n",
       " 0\n",
       " 1\n",
       " 2"
      ]
     },
     "metadata": {},
     "output_type": "display_data"
    }
   ],
   "source": [
    "Vector(1:3) .- 1"
   ]
  },
  {
   "cell_type": "code",
   "execution_count": 34,
   "metadata": {},
   "outputs": [
    {
     "data": {
      "text/plain": [
       "([0.5751229707796237 0.07874565388829678 0.46941146165009473; 0.13691968133623833 0.668135299731813 0.27601695570515317; 0.816193206495945 0.24585445796511693 0.1743271304178911], 0)"
      ]
     },
     "metadata": {},
     "output_type": "display_data"
    }
   ],
   "source": [
    "#x = Matrix{Float64}(I, 2, 2) .* 4\n",
    "x = copy(P)\n",
    "LAPACK.potrf!('L', x)"
   ]
  },
  {
   "cell_type": "code",
   "execution_count": 35,
   "metadata": {},
   "outputs": [
    {
     "data": {
      "text/plain": [
       "3×3 Matrix{Float64}:\n",
       "  61.4936    0.0787457   0.469411\n",
       "  15.5896    6.69563     0.276017\n",
       " -43.8158  -12.1083     32.9056"
      ]
     },
     "metadata": {},
     "output_type": "display_data"
    }
   ],
   "source": [
    "LAPACK.potri!('L', x)"
   ]
  },
  {
   "cell_type": "code",
   "execution_count": 39,
   "metadata": {},
   "outputs": [
    {
     "data": {
      "text/plain": [
       "3×3 Matrix{Float64}:\n",
       "  61.4936   15.5896   -43.8158\n",
       "  15.5896    6.69563  -12.1083\n",
       " -43.8158  -12.1083    32.9056"
      ]
     },
     "metadata": {},
     "output_type": "display_data"
    }
   ],
   "source": [
    "inv(P)"
   ]
  },
  {
   "cell_type": "code",
   "execution_count": 42,
   "metadata": {},
   "outputs": [
    {
     "data": {
      "text/plain": [
       "6-element view(::Vector{Int64}, [1, 2, 3, 5, 6, 9]) with eltype Int64:\n",
       " 1\n",
       " 4\n",
       " 7\n",
       " 5\n",
       " 8\n",
       " 9"
      ]
     },
     "metadata": {},
     "output_type": "display_data"
    }
   ],
   "source": [
    "x = [1 2 3; 4 5 6; 7 8 9]\n",
    "x_vech = view(x, [3 * (j - 1) + i for j in 1:3 for i in j:3])"
   ]
  },
  {
   "cell_type": "code",
   "execution_count": 43,
   "metadata": {},
   "outputs": [
    {
     "data": {
      "text/plain": [
       "3×3 Matrix{Int64}:\n",
       " 1  2  3\n",
       " 4  5  6\n",
       " 7  8  9"
      ]
     },
     "metadata": {},
     "output_type": "display_data"
    }
   ],
   "source": [
    "x"
   ]
  },
  {
   "cell_type": "code",
   "execution_count": 44,
   "metadata": {},
   "outputs": [
    {
     "data": {
      "text/plain": [
       "3×3 Matrix{Int64}:\n",
       " 0  2  3\n",
       " 4  5  6\n",
       " 7  8  9"
      ]
     },
     "metadata": {},
     "output_type": "display_data"
    }
   ],
   "source": [
    "x_vech[1] = 0\n",
    "x"
   ]
  },
  {
   "cell_type": "code",
   "execution_count": null,
   "metadata": {},
   "outputs": [],
   "source": []
  }
 ],
 "metadata": {
  "kernelspec": {
   "display_name": "Julia 1.10.2",
   "language": "julia",
   "name": "julia-1.10"
  },
  "language_info": {
   "file_extension": ".jl",
   "mimetype": "application/julia",
   "name": "julia",
   "version": "1.10.2"
  }
 },
 "nbformat": 4,
 "nbformat_minor": 2
}
