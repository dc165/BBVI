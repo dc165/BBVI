{
 "cells": [
  {
   "cell_type": "code",
   "execution_count": 1,
   "id": "6630bf5d",
   "metadata": {},
   "outputs": [],
   "source": [
    "include(\"TDCM_modelling.jl\")"
   ]
  },
  {
   "cell_type": "code",
   "execution_count": 2,
   "id": "64af46e9",
   "metadata": {},
   "outputs": [
    {
     "name": "stderr",
     "output_type": "stream",
     "text": [
      "\u001b[32m\u001b[1m    Building\u001b[22m\u001b[39m Conda → `C:\\Users\\14842\\.julia\\scratchspaces\\44cfe95a-1eb2-52ea-b672-e2afdf69b78f\\51cab8e982c5b598eea9c8ceaced4b58d9dd37c9\\build.log`\n",
      "\u001b[32m\u001b[1m    Building\u001b[22m\u001b[39m RCall → `C:\\Users\\14842\\.julia\\scratchspaces\\44cfe95a-1eb2-52ea-b672-e2afdf69b78f\\846b2aab2d312fda5e7b099fc217c661e8fae27e\\build.log`\n"
     ]
    }
   ],
   "source": [
    "using Pkg\n",
    "ENV[\"R_HOME\"] = \"C:/Program Files/R/R-4.4.1\"\n",
    "Pkg.build(\"RCall\")"
   ]
  },
  {
   "cell_type": "code",
   "execution_count": 3,
   "id": "fa783659",
   "metadata": {},
   "outputs": [
    {
     "name": "stderr",
     "output_type": "stream",
     "text": [
      "\u001b[32m\u001b[1m   Resolving\u001b[22m\u001b[39m package versions...\n",
      "\u001b[32m\u001b[1m  No Changes\u001b[22m\u001b[39m to `C:\\Users\\14842\\.julia\\environments\\v1.10\\Project.toml`\n",
      "\u001b[32m\u001b[1m  No Changes\u001b[22m\u001b[39m to `C:\\Users\\14842\\.julia\\environments\\v1.10\\Manifest.toml`\n"
     ]
    }
   ],
   "source": [
    "Pkg.add(\"RCall\")"
   ]
  },
  {
   "cell_type": "code",
   "execution_count": 4,
   "id": "3d243653",
   "metadata": {},
   "outputs": [
    {
     "name": "stderr",
     "output_type": "stream",
     "text": [
      "\u001b[36m\u001b[1m[ \u001b[22m\u001b[39m\u001b[36m\u001b[1mInfo: \u001b[22m\u001b[39mPrecompiling RCall [6f49c342-dc21-5d91-9882-a32aef131414]\n"
     ]
    },
    {
     "data": {
      "text/plain": [
       "RObject{StrSxp}\n",
       "[1] \"data\"\n"
      ]
     },
     "execution_count": 4,
     "metadata": {},
     "output_type": "execute_result"
    }
   ],
   "source": [
    "using RCall\n",
    "R\"\"\"\n",
    "load(\"../SCCD cleaned data/TDCM_empirical_data.RData\")\n",
    "\"\"\""
   ]
  },
  {
   "cell_type": "code",
   "execution_count": 6,
   "id": "b52393dd",
   "metadata": {},
   "outputs": [],
   "source": [
    "TDCM_data = @rget data\n",
    "Y = Array{Int, 3}(TDCM_data[:Y])\n",
    "Q = convert(Matrix{Int64}, TDCM_data[:Q_matrix])\n",
    "U = Vector{Vector{Matrix{Float64}}}(TDCM_data[:X_group])\n",
    "for skill in TDCM_data[:X_ind]\n",
    "    for time in 1:length(skill)\n",
    "        if skill[time] isa Vector{<: Number}\n",
    "            skill[time] = reshape(skill[time], :, 1)\n",
    "        end\n",
    "    end\n",
    "end\n",
    "X = Vector{Vector{Matrix{Float64}}}(TDCM_data[:X_ind])\n",
    "group = Vector{Int64}(TDCM_data[:group])\n",
    "obs = TDCMObs(Y, Q, U, X, group);"
   ]
  },
  {
   "cell_type": "code",
   "execution_count": 8,
   "id": "8d659104",
   "metadata": {},
   "outputs": [],
   "source": [
    "N, O, J, K, L, S = size(obs.Y, 1), size(obs.Y, 2), size(obs.Y, 3),  size(obs.Q, 2), size(obs.D[1], 1), size(obs.U[1][1], 1)\n",
    "\n",
    "mu_beta_prior = Vector{Vector{Float64}}(undef, J)\n",
    "L_beta_prior = Vector{Matrix{Float64}}(undef, J)\n",
    "for j in 1:J\n",
    "    num_features = size(obs.D[j], 2)\n",
    "    mu_beta_prior[j] = zeros(num_features)\n",
    "    L_beta_prior[j] = Matrix(1.0I, num_features, num_features)\n",
    "end\n",
    "\n",
    "mu_omega_prior = Vector{Vector{Vector{Vector{Vector{Float64}}}}}(undef, K)\n",
    "L_omega_prior = Vector{Vector{Vector{Vector{Matrix{Float64}}}}}(undef, K)\n",
    "a_tau_prior = Vector{Vector{Vector{Vector{Float64}}}}(undef, K)\n",
    "b_tau_prior = Vector{Vector{Vector{Vector{Float64}}}}(undef, K)\n",
    "\n",
    "for k in 1:K\n",
    "    mu_omega_prior[k] = Vector{Vector{Vector{Vector{Float64}}}}(undef, O)\n",
    "    L_omega_prior[k] = Vector{Vector{Vector{Matrix{Float64}}}}(undef, O)\n",
    "    a_tau_prior[k] = Vector{Vector{Vector{Float64}}}(undef, O)\n",
    "    b_tau_prior[k] = Vector{Vector{Vector{Float64}}}(undef, O)\n",
    "    for t in 1:O\n",
    "        num_features_gamma = size(obs.X[k][t], 2)\n",
    "        num_features_omega = size(obs.U[k][t], 2)\n",
    "        if t == 1\n",
    "            mu_omega_prior[k][t] = Vector{Vector{Vector{Float64}}}(undef, 1)\n",
    "            mu_omega_prior[k][t][1] = Vector{Vector{Float64}}(undef, 1)\n",
    "            mu_omega_prior[k][t][1][1] = zeros(num_features_omega)\n",
    "\n",
    "            L_omega_prior[k][t] = Vector{Vector{Matrix{Float64}}}(undef, 1)\n",
    "            L_omega_prior[k][t][1] = Vector{Matrix{Float64}}(undef, 1)\n",
    "            L_omega_prior[k][t][1][1] = Matrix{Float64}(1.0I, num_features_omega, num_features_omega)\n",
    "\n",
    "            a_tau_prior[k][t] = Vector{Vector{Float64}}(undef, 1)\n",
    "            a_tau_prior[k][t][1] = [.01]\n",
    "\n",
    "            b_tau_prior[k][t] = Vector{Vector{Float64}}(undef, 1)\n",
    "            b_tau_prior[k][t][1] = [.01]\n",
    "        else\n",
    "            mu_omega_prior[k][t] = Vector{Vector{Vector{Float64}}}(undef, 2)\n",
    "            L_omega_prior[k][t] = Vector{Vector{Matrix{Float64}}}(undef, 2)\n",
    "            a_tau_prior[k][t] = Vector{Vector{Float64}}(undef, 2)\n",
    "            b_tau_prior[k][t] = Vector{Vector{Float64}}(undef, 2)\n",
    "            for z in 1:2\n",
    "                mu_omega_prior[k][t][z] = Vector{Vector{Float64}}(undef, num_features_gamma)\n",
    "                L_omega_prior[k][t][z] = Vector{Matrix{Float64}}(undef, num_features_gamma)\n",
    "                a_tau_prior[k][t][z] = ones(num_features_gamma) .* .01\n",
    "                b_tau_prior[k][t][z] = ones(num_features_gamma) .* .01\n",
    "                for m in 1:num_features_gamma\n",
    "                    mu_omega_prior[k][t][z][m] = zeros(num_features_omega)\n",
    "                    L_omega_prior[k][t][z][m] = Matrix{Float64}(1.0I, num_features_omega, num_features_omega)\n",
    "                end\n",
    "            end\n",
    "        end\n",
    "    end\n",
    "end\n",
    ";"
   ]
  },
  {
   "cell_type": "code",
   "execution_count": 9,
   "id": "c90ba2fb",
   "metadata": {},
   "outputs": [
    {
     "name": "stdout",
     "output_type": "stream",
     "text": [
      "TDCModel constructed for computation on 12 threads\n"
     ]
    }
   ],
   "source": [
    "M = 500\n",
    "model = TDCModel(obs, mu_beta_prior, L_beta_prior, mu_omega_prior, L_omega_prior, a_tau_prior, b_tau_prior, M, enable_parallel=true);"
   ]
  },
  {
   "cell_type": "code",
   "execution_count": 30,
   "id": "38d067e9",
   "metadata": {},
   "outputs": [],
   "source": [
    "# Initialize tau distribution\n",
    "for k in 1:K\n",
    "    for t in 1:O\n",
    "        num_features = length(model.gamma_sample[k][t][1][1][1])\n",
    "        if t == 1\n",
    "            for feature in 1:num_features\n",
    "                model.a_tau_star[k][t][1][feature] = 50\n",
    "                model.b_tau_star[k][t][1][feature] = 2\n",
    "            end\n",
    "        else\n",
    "            for z in 0:1\n",
    "                for feature in 1:num_features\n",
    "                    model.a_tau_star[k][t][z + 1][feature] = 50\n",
    "                    model.b_tau_star[k][t][z + 1][feature] = 2\n",
    "                end\n",
    "            end\n",
    "        end\n",
    "    end\n",
    "end\n",
    "\n",
    "for j in 1:J\n",
    "    num_features = length(model.mu_beta_star[j])\n",
    "    model.mu_beta_star[j] .= vec([-1.0 repeat([1.0], num_features - 1)])\n",
    "end"
   ]
  },
  {
   "cell_type": "code",
   "execution_count": 31,
   "id": "d52ef214",
   "metadata": {},
   "outputs": [],
   "source": [
    "# Sample Z values\n",
    "for i in 1:N\n",
    "    for t in 1:O\n",
    "        sample_Z(model, i, t)\n",
    "    end\n",
    "end\n",
    "\n",
    "# Sample beta\n",
    "sample_β(model)\n",
    "\n",
    "# Sample gammas\n",
    "for k in 1:K\n",
    "    for t in 1:O\n",
    "        if t == 1\n",
    "            for s in 1:S\n",
    "                sample_γ(model, s, t, k, 0)\n",
    "            end\n",
    "        else\n",
    "            for z in 0:1\n",
    "                for s in 1:S\n",
    "                    sample_γ(model, s, t, k, z)\n",
    "                end\n",
    "            end\n",
    "        end\n",
    "    end\n",
    "end\n",
    "\n",
    "# Sample omega and tau values\n",
    "for k in 1:K\n",
    "    for t in 1:O\n",
    "        num_features = length(model.gamma_sample[k][t][1][1][1])\n",
    "        if t == 1\n",
    "            for feature in 1:num_features\n",
    "                sample_ω(model, k, t, 0, feature)\n",
    "                sample_τ(model, k, t, 0, feature)\n",
    "            end\n",
    "        else\n",
    "            for z in 0:1\n",
    "                for feature in 1:num_features\n",
    "                    sample_ω(model, k, t, z, feature)\n",
    "                    sample_τ(model, k, t, z, feature)\n",
    "                end\n",
    "            end\n",
    "        end\n",
    "    end\n",
    "end"
   ]
  },
  {
   "cell_type": "code",
   "execution_count": 32,
   "id": "a86eed3a",
   "metadata": {},
   "outputs": [],
   "source": [
    "for iter in 1:30\n",
    "    update_categorical_variational_distribution(model, maxiter=1, verbose=false)\n",
    "    for i in 1:N\n",
    "        sample_Z(model, i, 1)\n",
    "    end\n",
    "\n",
    "    update_categorical_variational_distribution2(model, 2, maxiter=1, verbose=false)\n",
    "    for i in 1:N\n",
    "        sample_Z(model, i, 2)\n",
    "    end\n",
    "\n",
    "    update_normal_variational_distribution(model, init_step = .005, maxiter = 10, verbose = false)\n",
    "    sample_β(model)\n",
    "\n",
    "    update_normal_variational_distribution2(model, init_step = .01, maxiter = 10, verbose = false)\n",
    "    for k in 1:K\n",
    "        for t in 1:O\n",
    "            if t == 1\n",
    "                for s in 1:S\n",
    "                    sample_γ(model, s, t, k, 0)\n",
    "                end\n",
    "            else\n",
    "                for z in 0:1\n",
    "                    for s in 1:S\n",
    "                        sample_γ(model, s, t, k, z)\n",
    "                    end\n",
    "                end\n",
    "            end\n",
    "        end\n",
    "    end\n",
    "\n",
    "    update_normal_variational_distribution3(model, init_step = .05, maxiter = 100, verbose = false)\n",
    "    for k in 1:K\n",
    "        for t in 1:O\n",
    "            num_features = length(model.gamma_sample[k][t][1][1][1])\n",
    "            if t == 1\n",
    "                for feature in 1:num_features\n",
    "                    sample_ω(model, k, t, 0, feature)\n",
    "                end\n",
    "            else\n",
    "                for z in 0:1\n",
    "                    for feature in 1:num_features\n",
    "                        sample_ω(model, k, t, z, feature)\n",
    "                    end\n",
    "                end\n",
    "            end\n",
    "        end\n",
    "    end\n",
    "\n",
    "    update_inverse_gamma_distribution(model, step = 1e-5, maxiter = 1, verbose = false)\n",
    "    for k in 1:K\n",
    "        for t in 1:O\n",
    "            num_features = length(model.gamma_sample[k][t][1][1][1])\n",
    "            if t == 1\n",
    "                for feature in 1:num_features\n",
    "                    sample_τ(model, k, t, 0, feature)\n",
    "                end\n",
    "            else\n",
    "                for z in 0:1\n",
    "                    for feature in 1:num_features\n",
    "                        sample_τ(model, k, t, z, feature)\n",
    "                    end\n",
    "                end\n",
    "            end\n",
    "        end\n",
    "    end\n",
    "end"
   ]
  },
  {
   "cell_type": "code",
   "execution_count": 62,
   "id": "9693649a",
   "metadata": {},
   "outputs": [
    {
     "data": {
      "text/plain": [
       "2-element Vector{Float64}:\n",
       " 0.061528144565415444\n",
       " 0.8061260966609542"
      ]
     },
     "execution_count": 62,
     "metadata": {},
     "output_type": "execute_result"
    }
   ],
   "source": [
    "model.mu_beta_star[1]"
   ]
  }
 ],
 "metadata": {
  "kernelspec": {
   "display_name": "Julia 12 Threads 1.10.2",
   "language": "julia",
   "name": "julia-12-threads-1.10"
  },
  "language_info": {
   "file_extension": ".jl",
   "mimetype": "application/julia",
   "name": "julia",
   "version": "1.10.2"
  }
 },
 "nbformat": 4,
 "nbformat_minor": 5
}
